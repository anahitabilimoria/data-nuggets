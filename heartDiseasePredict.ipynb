{
 "cells": [
  {
   "cell_type": "markdown",
   "metadata": {},
   "source": [
    "# Meaningful predictive modeling\n",
    "\n",
    "By Anahita Bilimoria\n",
    "\n",
    "### 1.0.2 2.Dataset for predicting presence of heart disease in the patient.(Classification problem, regularisation, Accuracy (TN, TP, FP, FN) and error (Balanced error rate))\n"
   ]
  },
  {
   "cell_type": "code",
   "execution_count": 1,
   "metadata": {},
   "outputs": [],
   "source": [
    "# Importing python libraries\n",
    "import csv\n",
    "import numpy as np\n",
    "from sklearn import linear_model\n",
    "from sklearn.linear_model import LinearRegression,LogisticRegression\n",
    "from sklearn.metrics import mean_squared_error\n",
    "import random"
   ]
  },
  {
   "cell_type": "markdown",
   "metadata": {},
   "source": [
    "### 1.2 2.Classification\n",
    "\n",
    "### 1.2.1 Dataset for predicting presence of heart disease in the patient.\n",
    "\n",
    "The dataset contains several parameters which are considered important for the prediction of heart\n",
    "disease.They are as follows:\n",
    "    1. age\n",
    "    2. sex\n",
    "    3. chest pain type (cp) (4 values)\n",
    "    4. resting blood pressure (trestbps)\n",
    "    5. serum cholestoral in mg/dl (chol)\n",
    "    6. fasting blood sugar > 120 mg/dl (fbs)\n",
    "    7. resting electrocardiographic results (values 0,1,2) (restecg)\n",
    "    8. maximum heart rate achieved (thalach)\n",
    "    9. exercise induced angina (exang)\n",
    "    10. oldpeak = ST depression induced by exercise relative to rest (oldpeak)\n",
    "    11. the slope of the peak exercise ST segment (slope)\n",
    "    12. number of major vessels (0-3) colored by flourosopy (ca)\n",
    "    13. thal: 3 = normal; 6 = fixed defect; 7 = reversable defect (thal)\n",
    "    14. target(1 or 0) (target)\n",
    "\n",
    "### 1.2.2 Length of dataset : 303\n",
    "\n",
    "### 1.2.3 You can find the dataset here :\n",
    "\n",
    "https://www.kaggle.com/ronitf/heart-disease-uci\n",
    "\n",
    "### 1.2.4 Dataset Cleaning :\n",
    "\n",
    "1.The feature ”sex”,”fbs”,”restecg”,”exang” had values 1 or 0,so it needs to be converted into True\n",
    "or False.\n",
    "2.The rest of the features namely ”age”,”cp”,”trestbps”,”chol”,”thalach”,”oldpeak”,”slope”,”ca”,\n",
    "”thal” need to be converted into float datatype.\n"
   ]
  },
  {
   "cell_type": "code",
   "execution_count": 10,
   "metadata": {},
   "outputs": [],
   "source": [
    "#  Reading the csv file\n",
    "\n",
    "path = \"heart.csv\"\n",
    "csv_file = open(path, mode='r',encoding=\"utf-8-sig\")\n",
    "reader = csv.reader(csv_file,delimiter=\",\")\n",
    "headers = next(reader)"
   ]
  },
  {
   "cell_type": "code",
   "execution_count": 11,
   "metadata": {},
   "outputs": [],
   "source": [
    "# Dataset Cleaning\n",
    "\n",
    "X = []\n",
    "Y = []\n",
    "data = []\n",
    "\n",
    "for row in reader:\n",
    "    values = [float(value) for value in row]\n",
    "    if values[1] == float(1):\n",
    "        values[1] = True\n",
    "    else:\n",
    "        values[1] = False\n",
    "    \n",
    "    if values[5] == float(1):\n",
    "        values[5] = True\n",
    "    else:\n",
    "        values[5] = False\n",
    "    if values[6] == float(1):\n",
    "        values[6] = True\n",
    "    else:\n",
    "        values[6] = False\n",
    "    if values[8] == float(1):\n",
    "        values[8] = True\n",
    "    else:\n",
    "        values[8] = False\n",
    "    data.append(values)   "
   ]
  },
  {
   "cell_type": "code",
   "execution_count": 12,
   "metadata": {},
   "outputs": [],
   "source": [
    "#  Training Features and Training labels,Testing Features and Testing labels, Validation Features and Validation labels\n",
    "# We split the dataset into training, validation and test sets using the ratio 50:25:25\n",
    "\n",
    "random.shuffle(data)\n",
    "length = len(data)\n",
    "X = [x[:13] for x in data]\n",
    "Y = [x[13] for x in data]\n",
    "\n",
    "trainX = X[:length//2]\n",
    "validX = X[length//2:3*length//4]\n",
    "testX = X[3*length//4:]\n",
    "\n",
    "trainY = Y[:length//2]\n",
    "validY = Y[length//2:3*length//4]\n",
    "testY = Y[3*length//4:]\n",
    "\n",
    "trainX = np.array(trainX)\n",
    "trainY = np.array(trainY)\n",
    "testX = np.array(testX)\n",
    "testY = np.array(testY)\n",
    "validX = np.array(validX)\n",
    "validY = np.array(validY)"
   ]
  },
  {
   "cell_type": "code",
   "execution_count": 13,
   "metadata": {},
   "outputs": [],
   "source": [
    "# Classification model with ridge\n",
    "\n",
    "classi1 = linear_model.Ridge(1.0, fit_intercept = False)\n",
    "classi = classi1.fit(trainX, trainY)"
   ]
  },
  {
   "cell_type": "code",
   "execution_count": 14,
   "metadata": {},
   "outputs": [],
   "source": [
    "# Validation data against the model\n",
    "\n",
    "validX1 = validX[0]\n",
    "validY1 = validY[0]\n",
    "predictedValidY1 = classi.predict([validX1])"
   ]
  },
  {
   "cell_type": "code",
   "execution_count": 15,
   "metadata": {},
   "outputs": [],
   "source": [
    "# Testing data against the classification model\n",
    "\n",
    "testX1 = testX[0]\n",
    "testY1 = testY[0]\n",
    "predictedY1 = classi.predict([testX1])"
   ]
  },
  {
   "cell_type": "code",
   "execution_count": 16,
   "metadata": {
    "scrolled": true
   },
   "outputs": [
    {
     "name": "stdout",
     "output_type": "stream",
     "text": [
      "Accuracy :  0.9966996699669967\n"
     ]
    }
   ],
   "source": [
    "#  Calculating the list of ages and all ages > 35 as True\n",
    "x_class = [x for x in data]\n",
    "y_class = [(x[0] > 35) for x in data]\n",
    "\n",
    "model1 = linear_model.LogisticRegression(max_iter = 200)\n",
    "model = model1.fit(x_class, y_class)\n",
    "\n",
    "predictions = model.predict(x_class)\n",
    "correct = predictions == y_class\n",
    "\n",
    "accuracy = sum(correct) / len(correct)\n",
    "print(\"Accuracy : \",accuracy)"
   ]
  },
  {
   "cell_type": "code",
   "execution_count": 17,
   "metadata": {},
   "outputs": [
    {
     "name": "stdout",
     "output_type": "stream",
     "text": [
      "TP =  296\n",
      "FP =  1\n",
      "TN =  6\n",
      "FN =  0\n"
     ]
    }
   ],
   "source": [
    "# Now calculating the True positives, True negatives, False positives and False negatives\n",
    "\n",
    "TP = sum([(p and l) for (p,l) in zip(predictions, y_class)])\n",
    "FP = sum([(p and not l) for (p,l) in zip(predictions, y_class)])\n",
    "TN = sum([(not p and not l) for (p,l) in zip(predictions, y_class)])\n",
    "FN = sum([(not p and l) for (p,l) in zip(predictions, y_class)])\n",
    "\n",
    "print(\"TP = \", TP)\n",
    "print(\"FP = \", FP)\n",
    "print(\"TN = \", TN)\n",
    "print(\"FN = \", FN)\n"
   ]
  },
  {
   "cell_type": "code",
   "execution_count": 18,
   "metadata": {},
   "outputs": [
    {
     "name": "stdout",
     "output_type": "stream",
     "text": [
      "Total accuracy :  0.9966996699669967\n"
     ]
    }
   ],
   "source": [
    "# Calculating the accuracy based on above counts\n",
    "\n",
    "total_accuracy = (TP + TN) / (TP + FP + TN + FN)\n",
    "print(\"Total accuracy : \", total_accuracy)"
   ]
  },
  {
   "cell_type": "code",
   "execution_count": 19,
   "metadata": {},
   "outputs": [
    {
     "name": "stdout",
     "output_type": "stream",
     "text": [
      "True positive rate :  1.0\n",
      "True negative rate :  0.8571428571428571\n"
     ]
    }
   ],
   "source": [
    "# Now calculating the True positive rate and True negative rate\n",
    "\n",
    "TPR = TP / (TP+ FN)\n",
    "TNR = TN / (TN + FP)\n",
    "\n",
    "print(\"True positive rate : \", TPR)\n",
    "print(\"True negative rate : \", TNR)"
   ]
  },
  {
   "cell_type": "code",
   "execution_count": 20,
   "metadata": {},
   "outputs": [
    {
     "name": "stdout",
     "output_type": "stream",
     "text": [
      "Balanced error rate :  0.0714285714285714\n"
     ]
    }
   ],
   "source": [
    "# Calculating the balanced error rate\n",
    "\n",
    "BER = 1 - 1/2 * (TPR + TNR)\n",
    "print(\"Balanced error rate : \", BER)"
   ]
  },
  {
   "cell_type": "code",
   "execution_count": 21,
   "metadata": {},
   "outputs": [
    {
     "name": "stdout",
     "output_type": "stream",
     "text": [
      "\n",
      "\n",
      "Features :  ['age', 'sex', 'cp', 'trestbps', 'chol', 'fbs', 'restecg', 'thalach', 'exang', 'oldpeak', 'slope', 'ca', 'thal']\n",
      "\n",
      "\n",
      "Data sample :  [56.0, True, 0.0, 130.0, 283.0, True, False, 103.0, True, 1.6, 0.0, 0.0, 3.0, 0.0]\n",
      "\n",
      "\n",
      "length of dataset :  303\n",
      "\n",
      "\n",
      "One of the Feature vectors for training :  [ 56.    1.    0.  130.  283.    1.    0.  103.    1.    1.6   0.    0.\n",
      "   3. ]\n",
      "\n",
      "\n",
      "Output for the above feature vector :  0.0\n",
      "\n",
      "\n",
      "One of the Feature vectors for testing :  [ 65.    1.    3.  138.  282.    1.    0.  174.    0.    1.4   1.    1.\n",
      "   2. ]\n",
      "\n",
      "\n",
      "Expected Output of the above feature vector :  0.0\n",
      "\n",
      "\n",
      "Actual Output of the above feature vector using Classification model for Testing data:  0.8668038635149697\n",
      "\n",
      "\n"
     ]
    }
   ],
   "source": [
    "# Printing key outputs\n",
    "\n",
    "print()\n",
    "print()\n",
    "print(\"Features : \",headers[:13])\n",
    "print()\n",
    "print()\n",
    "print(\"Data sample : \",data[0])\n",
    "print()\n",
    "print()\n",
    "print(\"length of dataset : \",length)\n",
    "print()\n",
    "print()\n",
    "print(\"One of the Feature vectors for training : \",trainX[0])\n",
    "print()\n",
    "print()\n",
    "print(\"Output for the above feature vector : \",trainY[0])\n",
    "print()\n",
    "print()\n",
    "print(\"One of the Feature vectors for testing : \",testX1)\n",
    "print()\n",
    "print()\n",
    "print(\"Expected Output of the above feature vector : \",testY1)\n",
    "print()\n",
    "print()\n",
    "print(\"Actual Output of the above feature vector using Classification model for Testing data: \",predictedY1[0])\n",
    "print()\n",
    "print()"
   ]
  }
 ],
 "metadata": {
  "kernelspec": {
   "display_name": "Python 3",
   "language": "python",
   "name": "python3"
  },
  "language_info": {
   "codemirror_mode": {
    "name": "ipython",
    "version": 3
   },
   "file_extension": ".py",
   "mimetype": "text/x-python",
   "name": "python",
   "nbconvert_exporter": "python",
   "pygments_lexer": "ipython3",
   "version": "3.7.7"
  }
 },
 "nbformat": 4,
 "nbformat_minor": 4
}
