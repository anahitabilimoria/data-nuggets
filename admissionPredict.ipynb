{
 "cells": [
  {
   "cell_type": "markdown",
   "metadata": {},
   "source": [
    "# Meaningful predictive modeling\n",
    "\n",
    "By Anahita Bilimoria\n",
    "\n",
    "### 1.0.1 1.Dataset for predicting admissions for master’s programs.(Regression problem, regularisation and MSE, )\n",
    "\n",
    "### 1.1 Regression\n",
    "\n",
    "### 1.1.1 Dataset for predicting admissions for master’s programs.\n",
    "\n",
    "The dataset contains several parameters which are considered important during the application for\n",
    "Masters Programs The parameters included are:\n",
    "1. GRE Scores ( out of 340 )\n",
    "2. TOEFL Scores ( out of 120 )\n",
    "3. University Rating ( out of 5 )\n",
    "4. Statement of Purpose and Letter of Recommendation Strength ( out of 5 )\n",
    "5. Undergraduate GPA ( out of 10 )\n",
    "6. Research Experience ( either 0 or 1 )\n",
    "7. Chance of Admit ( ranging from 0 to 1 )\n",
    "\n",
    "### 1.1.2 Length of dataset : 400\n",
    "\n",
    "### 1.1.3 You can find the dataset here :\n",
    "\n",
    "https://www.kaggle.com/adityadeshpande23/admissionpredictioncsv#Admission_Predict.csv\n",
    "\n",
    "### 1.1.4 Dataset Cleaning :\n",
    "\n",
    "1.The feature ”Research Experience” had values 1 or 0,so it needs to be converted into True or\n",
    "False.\n",
    "2.The rest of the features namely ”GRE Scores”,”TOEFL Scores”,”University Rating”,”Statement\n",
    "of Purpose and Letter of Recommendation Strength”,”Undergraduate GPA” need to be converted\n",
    "into float datatype.\n",
    "\n"
   ]
  },
  {
   "cell_type": "code",
   "execution_count": 1,
   "metadata": {},
   "outputs": [],
   "source": [
    "# Importing python libraries\n",
    "import csv\n",
    "import numpy as np\n",
    "from sklearn import linear_model\n",
    "from sklearn.linear_model import LinearRegression,LogisticRegression\n",
    "from sklearn.metrics import mean_squared_error\n",
    "import random"
   ]
  },
  {
   "cell_type": "code",
   "execution_count": 2,
   "metadata": {},
   "outputs": [],
   "source": [
    "#  Reading the csv file\n",
    "\n",
    "path = \"Admission_Predict.csv\"\n",
    "csv_file = open(path, mode='r')\n",
    "reader = csv.reader(csv_file,delimiter=\",\")\n",
    "headers = next(reader)\n"
   ]
  },
  {
   "cell_type": "code",
   "execution_count": 3,
   "metadata": {},
   "outputs": [],
   "source": [
    "#  Dataset Cleaning\n",
    "\n",
    "X = []\n",
    "Y = []\n",
    "data = []\n",
    "\n",
    "for row in reader:\n",
    "    x_values = row[1:]\n",
    "    values = [float(value) for value in x_values]\n",
    "    \n",
    "    if values[6] == float(1):\n",
    "        values[6] = True\n",
    "    else:\n",
    "        values[6] = False\n",
    "        \n",
    "    data.append(values)"
   ]
  },
  {
   "cell_type": "code",
   "execution_count": 4,
   "metadata": {},
   "outputs": [],
   "source": [
    "#  Training Features and Training labels,Testing Features and Testing labels\n",
    "\n",
    "random.shuffle(data)\n",
    "length = len(data)\n",
    "\n",
    "X = [x[:7] for x in data]\n",
    "Y = [x[7] for x in data]\n",
    "\n",
    "trainX = X[:length//2]\n",
    "validX = X[length//2:3*length//4]\n",
    "testX = X[3*length//4:]\n",
    "\n",
    "trainY = Y[:length//2]\n",
    "validY = Y[length//2:3*length//4]\n",
    "testY = Y[3*length//4:]\n",
    "\n",
    "trainX = np.array(trainX)\n",
    "trainY = np.array(trainY)\n",
    "testX = np.array(testX)\n",
    "testY = np.array(testY)\n",
    "validX = np.array(validX)\n",
    "validY = np.array(validY)"
   ]
  },
  {
   "cell_type": "code",
   "execution_count": 5,
   "metadata": {},
   "outputs": [],
   "source": [
    "#  Regression model using Ridge\n",
    "# Regularising with a value of 1, 0.5, 1.5, 2.0. the values of the MSE increase below 1 and decrease above 1.5 \n",
    "\n",
    "reg1 = linear_model.Ridge(1.0, fit_intercept = False)\n",
    "reg = reg1.fit(trainX, trainY)"
   ]
  },
  {
   "cell_type": "code",
   "execution_count": 6,
   "metadata": {},
   "outputs": [],
   "source": [
    "# Validation data against the regression model\n",
    "\n",
    "validX1 = validX[0]\n",
    "validY1 = validY[0]\n",
    "\n",
    "predictedValidY1 = reg.predict([validX1])\n"
   ]
  },
  {
   "cell_type": "code",
   "execution_count": 7,
   "metadata": {},
   "outputs": [],
   "source": [
    "#  Testing data against the regression model\n",
    "\n",
    "testX1 = testX\n",
    "testY1 = testY\n",
    "predictedY1 = reg.predict(testX1)\n"
   ]
  },
  {
   "cell_type": "code",
   "execution_count": 8,
   "metadata": {},
   "outputs": [
    {
     "name": "stdout",
     "output_type": "stream",
     "text": [
      "MSE :  0.005047903564676183\n",
      "R2 :  0.9999995832577167\n"
     ]
    }
   ],
   "source": [
    "# Calculating the MSE and FVU on the test set \n",
    "\n",
    "difference = [(x-y)**2 for (x,y) in zip(predictedY1, testY1)]\n",
    "\n",
    "MSE = sum(difference) / len(difference)\n",
    "\n",
    "print(\"MSE : \", MSE)\n",
    "FVU = MSE / np.var(testX1)\n",
    "R2 = 1 - FVU\n",
    "\n",
    "print(\"R2 : \", R2)"
   ]
  },
  {
   "cell_type": "code",
   "execution_count": 9,
   "metadata": {},
   "outputs": [
    {
     "name": "stdout",
     "output_type": "stream",
     "text": [
      "\n",
      "\n",
      "Features :  ['GRE Score', 'TOEFL Score', 'University Rating', 'SOP', 'LOR ', 'CGPA']\n",
      "\n",
      "\n",
      "Data sample :  [328.0, 112.0, 4.0, 4.0, 4.5, 9.1, True, 0.78]\n",
      "\n",
      "\n",
      "length of dataset :  400\n",
      "\n",
      "\n",
      "One of the Feature vectors for training :  [328.  112.    4.    4.    4.5   9.1   1. ]\n",
      "\n",
      "\n",
      "Output for the above feature vector :  0.78\n",
      "\n",
      "\n",
      "Regression parameters of the Regression model :  [-0.00294364  0.00392454  0.01615909  0.01283146  0.01876169  0.12305527\n",
      "  0.04785981]\n",
      "\n",
      "\n",
      "One of the Feature vectors for testing :  [311.   102.     3.     4.5    4.     8.64   1.  ]\n",
      "\n",
      "\n",
      "Expected Output of the above feature vector :  0.68\n",
      "\n",
      "\n",
      "Actual Output of the above feature vector using Regression model ( validation data ):  0.5670054921364788\n",
      "\n",
      "\n",
      "Actual Output of the above feature vector using Regression model ( testing data ):  0.7771545587341802\n",
      "\n",
      "\n"
     ]
    }
   ],
   "source": [
    "# Printing key outputs\n",
    "\n",
    "print()\n",
    "print()\n",
    "print(\"Features : \",headers[1:7])\n",
    "print()\n",
    "print()\n",
    "print(\"Data sample : \",data[0])\n",
    "print()\n",
    "print()\n",
    "print(\"length of dataset : \",length)\n",
    "print()\n",
    "print()\n",
    "print(\"One of the Feature vectors for training : \",trainX[0])\n",
    "print()\n",
    "print()\n",
    "print(\"Output for the above feature vector : \",trainY[0])\n",
    "print()\n",
    "print()\n",
    "print(\"Regression parameters of the Regression model : \",reg.coef_)\n",
    "print()\n",
    "print()\n",
    "print(\"One of the Feature vectors for testing : \",testX1[0])\n",
    "print()\n",
    "print()\n",
    "print(\"Expected Output of the above feature vector : \",testY1[0])\n",
    "print()\n",
    "print()\n",
    "print(\"Actual Output of the above feature vector using Regression model ( validation data ): \",predictedValidY1[0])\n",
    "print()\n",
    "print()\n",
    "print(\"Actual Output of the above feature vector using Regression model ( testing data ): \",predictedY1[0])\n",
    "print()\n",
    "print()"
   ]
  }
 ],
 "metadata": {
  "kernelspec": {
   "display_name": "Python 3",
   "language": "python",
   "name": "python3"
  },
  "language_info": {
   "codemirror_mode": {
    "name": "ipython",
    "version": 3
   },
   "file_extension": ".py",
   "mimetype": "text/x-python",
   "name": "python",
   "nbconvert_exporter": "python",
   "pygments_lexer": "ipython3",
   "version": "3.7.7"
  }
 },
 "nbformat": 4,
 "nbformat_minor": 4
}
