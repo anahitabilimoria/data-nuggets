{
 "cells": [
  {
   "cell_type": "markdown",
   "metadata": {},
   "source": [
    "# 0.1 Basic Data Processing and Visualization\n",
    "Peer-graded Assignment\n",
    "by Anahita Bilimoria\n",
    "\n",
    "### 1. Describing the dataset\n",
    "\n",
    "1.1 This data set contains booking information for a city hotel and a resort hotel from 2015 to 2017, and includes information such as when the booking was made, length of stay, the number of adults, children, and/or babies, country of origin and the number of available parking spaces, among other things. \n",
    "\n",
    "#### We will be studying facts like loyalty of customers, countries that prefer to holiday here, times of the year families most likely tend to holiday among other interesting insights.\n",
    "\n",
    "1.2 The dataset contains 31 parameters have been recorded during the booking and cancellation of the hotels, which are listed below:\n",
    "\n",
    "    1. hotel\n",
    "    2. is_canceled\t\n",
    "    3. lead_time\t\n",
    "    4. arrival_date_year\t\n",
    "    5. arrival_date_month\t\n",
    "    6. arrival_date_week_number\t\n",
    "    7. arrival_date_day_of_month\t\n",
    "    8. stays_in_weekend_nights\t\n",
    "    9. stays_in_week_nights\t\n",
    "    10. adults\t\n",
    "    11. children\t\n",
    "    12. babies\t\n",
    "    13. meal\t\n",
    "    14. country\t\n",
    "    15. market_segment\t\n",
    "    16. distribution_channel\t\n",
    "    17. is_repeated_guest\t\n",
    "    18. previous_cancellations\t\n",
    "    19. previous_bookings_not_canceled\t\n",
    "    20. reserved_room_type\t\n",
    "    21. assigned_room_type\t\n",
    "    22. booking_changes\t\n",
    "    23. agent\t\n",
    "    24. company\t\n",
    "    25. days_in_waiting_list\t\n",
    "    26. customer_type\t\n",
    "    27. required_car_parking_spaces\t\n",
    "    28. total_of_special_requests\t\n",
    "    29. reservation_status\t\n",
    "    30. reservation_status_date\n",
    "    31. deposit_type\t\n",
    "\n",
    "\n",
    "1.3 Length of dataset : 1,19,391\n",
    "\n",
    "1.4 You can find the dataset here :\n",
    "\n",
    "https://www.kaggle.com/jessemostipak/hotel-booking-demand#hotel_bookings.csv"
   ]
  },
  {
   "cell_type": "code",
   "execution_count": 1,
   "metadata": {},
   "outputs": [],
   "source": [
    "# Importing libraries\n",
    "import json\n",
    "import csv\n",
    "import time\n",
    "import numpy as np\n",
    "from collections import defaultdict \n",
    "import matplotlib.pyplot as plt\n",
    "import pandas as pd"
   ]
  },
  {
   "cell_type": "code",
   "execution_count": 2,
   "metadata": {},
   "outputs": [],
   "source": [
    "# Importing the dataset\n",
    "path = \"/Users/anahitabilimoria/Desktop/hotel_bookings.csv\"\n",
    "data = pd.read_csv(path) "
   ]
  },
  {
   "cell_type": "markdown",
   "metadata": {},
   "source": [
    "1.5 Exploring the dataset. Collecting one dimensional numbers and general counts "
   ]
  },
  {
   "cell_type": "code",
   "execution_count": 3,
   "metadata": {},
   "outputs": [
    {
     "name": "stdout",
     "output_type": "stream",
     "text": [
      "Length of dataset : \n",
      "119390\n",
      "\n",
      "Resort and city hotel counts : \n",
      "City Hotel      79330\n",
      "Resort Hotel    40060\n",
      "\n",
      "Year counts in 2015,2016,2017 : \n",
      "2016    56707\n",
      "2017    40687\n",
      "2015    21996\n",
      "\n",
      "Top 3 visiting countries : \n",
      "PRT    48590\n",
      "GBR    12129\n",
      "FRA    10415\n",
      "\n",
      "Families visiting without and with babies : \n",
      "0     118473\n",
      "1        900\n",
      "2         15\n",
      "10         1\n",
      "9          1\n"
     ]
    }
   ],
   "source": [
    "# 1. Length\n",
    "# 2. No. of Resort hotel bookings \n",
    "# 3. No. of city hotel bookings \n",
    "# 4. No. of bookings in 2015, 2016 and 2017 respectively\n",
    "# 5. Top 3 visiting countries\n",
    "# 6. No. of Families without and with babies \n",
    "\n",
    "print(\"Length of dataset : \")\n",
    "print(len(data))\n",
    "print()\n",
    "print(\"Resort and city hotel counts : \")\n",
    "print(data['hotel'].value_counts().to_string())\n",
    "print()\n",
    "print(\"Year counts in 2015,2016,2017 : \")\n",
    "print(data['arrival_date_year'].value_counts().to_string())\n",
    "print()\n",
    "print(\"Top 3 visiting countries : \")\n",
    "print(data['country'].value_counts()[:3].to_string())\n",
    "print()\n",
    "print(\"Families visiting without and with babies : \")\n",
    "print(data['babies'].value_counts().to_string())\n"
   ]
  },
  {
   "cell_type": "markdown",
   "metadata": {},
   "source": [
    "### 2. Data cleaning/ preparation\n",
    "\n",
    "2.1 As we will be focusing on insights like crowd entries and stay durations, a few unnecessary columns can be filtered out (for eg. reservation_status_date, total_of_special_requests, required_car_parking_spaces, deposit_type, agent, company, etc). Columns like company and agent have excessive NULL and NaN values which will be removed as well.\n"
   ]
  },
  {
   "cell_type": "code",
   "execution_count": 4,
   "metadata": {},
   "outputs": [
    {
     "name": "stdout",
     "output_type": "stream",
     "text": [
      "Final columns for studying data:\n"
     ]
    },
    {
     "data": {
      "text/plain": [
       "['hotel',\n",
       " 'is_canceled',\n",
       " 'arrival_date_year',\n",
       " 'arrival_date_month',\n",
       " 'stays_in_weekend_nights',\n",
       " 'stays_in_week_nights',\n",
       " 'adults',\n",
       " 'children',\n",
       " 'babies',\n",
       " 'meal',\n",
       " 'country',\n",
       " 'is_repeated_guest',\n",
       " 'previous_cancellations',\n",
       " 'previous_bookings_not_canceled',\n",
       " 'reserved_room_type',\n",
       " 'assigned_room_type']"
      ]
     },
     "execution_count": 4,
     "metadata": {},
     "output_type": "execute_result"
    }
   ],
   "source": [
    "# Removing columns with NaN values and unnecessary columns to study valid data \n",
    "data = data.drop(['reservation_status_date', 'agent', 'company', 'lead_time', 'arrival_date_week_number', 'arrival_date_day_of_month','deposit_type','days_in_waiting_list',\n",
    "           'required_car_parking_spaces','market_segment','total_of_special_requests','reservation_status','booking_changes','customer_type','distribution_channel','adr'], axis = 1) \n",
    "\n",
    "print(\"Final columns for studying data:\")\n",
    "list(data)\n"
   ]
  },
  {
   "cell_type": "code",
   "execution_count": 5,
   "metadata": {},
   "outputs": [
    {
     "name": "stdout",
     "output_type": "stream",
     "text": [
      "cancelled and not cancelled counts: \n",
      "False    75166\n",
      "True     44224\n",
      "\n",
      "Repeat guests counts: \n",
      "False    115580\n",
      "True       3810\n",
      "\n",
      "Previous booking not cancelled counts: \n",
      "False    117848\n",
      "True       1542\n"
     ]
    }
   ],
   "source": [
    "# Values like is_canceled, is_repeat_guest,previous_bookings_not_canceled are 0/1. \n",
    "# They will be cleaned to True or False. \n",
    "\n",
    "data['is_canceled'] = np.where(data['is_canceled'] == 1, True,False)\n",
    "data['is_repeated_guest'] = np.where(data['is_repeated_guest'] == 1, True,False)\n",
    "data['previous_bookings_not_canceled'] = np.where(data['previous_bookings_not_canceled'] == 1, True,False)\n",
    "\n",
    "# Results of the above changes\n",
    "print(\"cancelled and not cancelled counts: \")\n",
    "print(data['is_canceled'].value_counts().to_string())\n",
    "print()\n",
    "print(\"Repeat guests counts: \")\n",
    "print(data['is_repeated_guest'].value_counts().to_string())\n",
    "print()\n",
    "print(\"Previous booking not cancelled counts: \")\n",
    "print(data['previous_bookings_not_canceled'].value_counts().to_string())\n"
   ]
  },
  {
   "cell_type": "markdown",
   "metadata": {},
   "source": [
    "### 3. Gathering meaningful insights from the dataset\n",
    "\n",
    "3.1 Calculating an average of nights stayed on the basis of country\n",
    "\n",
    "We first calculate total nights stayed from the columns 'stays_in_weekend_nights' and 'stays_in_week_nights'. then we find adn average of total nights on the basis of country."
   ]
  },
  {
   "cell_type": "code",
   "execution_count": 6,
   "metadata": {},
   "outputs": [
    {
     "data": {
      "text/plain": [
       "country\n",
       "FRO    12.000000\n",
       "SEN     8.818182\n",
       "AGO     8.116022\n",
       "TGO     8.000000\n",
       "GNB     7.111111\n",
       "SLE     7.000000\n",
       "PLW     7.000000\n",
       "BHS     7.000000\n",
       "RWA     6.500000\n",
       "CPV     6.083333\n",
       "MRT     6.000000\n",
       "SAU     5.791667\n",
       "GHA     5.750000\n",
       "GEO     5.272727\n",
       "IRL     5.145481\n",
       "LCA     5.000000\n",
       "GBR     4.789513\n",
       "LKA     4.714286\n",
       "EST     4.698795\n",
       "LTU     4.679012\n",
       "ETH     4.666667\n",
       "PAK     4.642857\n",
       "MNE     4.600000\n",
       "OMN     4.555556\n",
       "ROU     4.530000\n",
       "ARE     4.529412\n",
       "LVA     4.527273\n",
       "JAM     4.500000\n",
       "NGA     4.441176\n",
       "AND     4.428571\n",
       "         ...    \n",
       "GAB     2.500000\n",
       "SGP     2.487179\n",
       "KOR     2.458647\n",
       "GGY     2.333333\n",
       "BEN     2.333333\n",
       "CRI     2.315789\n",
       "HKG     2.137931\n",
       "THA     2.101695\n",
       "ATF     2.000000\n",
       "BDI     2.000000\n",
       "SYC     2.000000\n",
       "BRB     2.000000\n",
       "KNA     2.000000\n",
       "MMR     2.000000\n",
       "ATA     2.000000\n",
       "LBY     2.000000\n",
       "UGA     2.000000\n",
       "PRI     1.833333\n",
       "GTM     1.750000\n",
       "MWI     1.500000\n",
       "STP     1.500000\n",
       "SLV     1.500000\n",
       "PRY     1.500000\n",
       "DJI     1.000000\n",
       "HND     1.000000\n",
       "COM     1.000000\n",
       "ASM     1.000000\n",
       "MLI     1.000000\n",
       "MDG     1.000000\n",
       "BFA     1.000000\n",
       "Name: total_nights, Length: 177, dtype: float64"
      ]
     },
     "execution_count": 6,
     "metadata": {},
     "output_type": "execute_result"
    }
   ],
   "source": [
    "total_nights = data[\"stays_in_weekend_nights\"] + data[\"stays_in_week_nights\"]\n",
    "data[\"total_nights\"] = total_nights\n",
    "data.groupby('country')['total_nights'].mean().sort_values(ascending = False)"
   ]
  },
  {
   "cell_type": "markdown",
   "metadata": {},
   "source": [
    "#### The insight shows that although Portugal, UK and France have had the most number of people visiting hotels, the longest stays are from Denmark, West Africa and Central Africa"
   ]
  },
  {
   "cell_type": "markdown",
   "metadata": {},
   "source": [
    "3.2 Calculating most visited months in 2015, 2016 and 2017\n",
    "\n",
    "We first calculate the total visits in each month and add them to a dictionary. Then we pick the maximum count for the year and record the month it was from."
   ]
  },
  {
   "cell_type": "code",
   "execution_count": 7,
   "metadata": {},
   "outputs": [
    {
     "name": "stdout",
     "output_type": "stream",
     "text": [
      "arrival_date_year  arrival_date_month\n",
      "2015               August                3889\n",
      "                   December              2920\n",
      "                   July                  2776\n",
      "                   November              2340\n",
      "                   October               4957\n",
      "                   September             5114\n",
      "2016               April                 5428\n",
      "                   August                5063\n",
      "                   December              3860\n",
      "                   February              3891\n",
      "                   January               2248\n",
      "                   July                  4572\n",
      "                   June                  5292\n",
      "                   March                 4824\n",
      "                   May                   5478\n",
      "                   November              4454\n",
      "                   October               6203\n",
      "                   September             5394\n",
      "2017               April                 5661\n",
      "                   August                4925\n",
      "                   February              4177\n",
      "                   January               3681\n",
      "                   July                  5313\n",
      "                   June                  5647\n",
      "                   March                 4970\n",
      "                   May                   6313\n"
     ]
    }
   ],
   "source": [
    "print(data.groupby(['arrival_date_year','arrival_date_month']).size().to_string())\n",
    "\n",
    "final_count = data.groupby(['arrival_date_year','arrival_date_month']).size()\n",
    "list_year = []"
   ]
  },
  {
   "cell_type": "markdown",
   "metadata": {},
   "source": [
    "Now we find the highest counts and their respective months through the years"
   ]
  },
  {
   "cell_type": "code",
   "execution_count": 8,
   "metadata": {},
   "outputs": [
    {
     "name": "stdout",
     "output_type": "stream",
     "text": [
      "[{'year': 2015, 'month': 'September', 'count': 5114}, {'year': 2016, 'month': 'October', 'count': 6203}, {'year': 2017, 'month': 'May', 'count': 6313}]\n"
     ]
    }
   ],
   "source": [
    "for year in [2015,2016,2017]:\n",
    "    maximum_count = 0\n",
    "    \n",
    "    for index, row in final_count.iteritems():\n",
    "        if index[0] == year:\n",
    "            if maximum_count < int(row):\n",
    "                maximum_count = int(row)\n",
    "                maximum_month = index[1]\n",
    "    \n",
    "    list_year.append({\"year\" : year, \"month\" : maximum_month, \"count\" : maximum_count})\n",
    "\n",
    "print(list_year)"
   ]
  },
  {
   "cell_type": "markdown",
   "metadata": {},
   "source": [
    "#### The insight shows that in the years 2015 and 2016, the later months of September and October were most visited and in 2017 due to lack of data the highest number of people visited in May. The numbers have steadily increased in 2017."
   ]
  },
  {
   "cell_type": "markdown",
   "metadata": {},
   "source": [
    "3.3 Calculating most loyal customers based on country\n",
    "\n",
    "We now calculate the sum of all returning customers and group them on the basis of countries"
   ]
  },
  {
   "cell_type": "code",
   "execution_count": 9,
   "metadata": {},
   "outputs": [
    {
     "name": "stdout",
     "output_type": "stream",
     "text": [
      "Total repeating guests: \n",
      "3810\n"
     ]
    }
   ],
   "source": [
    "print(\"Total repeating guests: \")\n",
    "print(data.groupby(['is_repeated_guest']).size().to_dict()[1])"
   ]
  },
  {
   "cell_type": "code",
   "execution_count": 10,
   "metadata": {},
   "outputs": [
    {
     "name": "stdout",
     "output_type": "stream",
     "text": [
      "Returning guests:\n",
      "country\n",
      "PRT    3250\n",
      "GBR     107\n",
      "ESP      90\n",
      "FRA      78\n",
      "ITA      40\n",
      "IRL      31\n",
      "DEU      25\n",
      "NLD      20\n",
      "USA      19\n",
      "AGO      18\n",
      "BEL      17\n",
      "BRA      14\n",
      "AUT      11\n",
      "SWE      10\n",
      "TUR       9\n",
      "CHN       8\n",
      "PRI       6\n",
      "POL       5\n",
      "CN        5\n",
      "LUX       4\n",
      "GRC       4\n",
      "CHE       3\n",
      "ISR       3\n",
      "RUS       3\n",
      "JPN       3\n",
      "FIN       2\n",
      "MAR       2\n",
      "DZA       2\n",
      "AUS       2\n",
      "NOR       2\n",
      "SVN       2\n",
      "ISL       1\n",
      "ARE       1\n",
      "ARG       1\n",
      "TUN       1\n",
      "NGA       1\n",
      "PER       1\n",
      "MOZ       1\n",
      "DNK       1\n",
      "LBN       1\n",
      "KOR       1\n",
      "ZAF       1\n"
     ]
    }
   ],
   "source": [
    "# create slice of dataframe with only repeated guests\n",
    "repeated_guests = data.query('is_repeated_guest == True')\n",
    "print(\"Returning guests:\")\n",
    "print(repeated_guests.groupby('country').size().sort_values(ascending = False).to_string())\n",
    "                                                                        "
   ]
  },
  {
   "cell_type": "markdown",
   "metadata": {},
   "source": [
    "#### The insight shows that the customers from Portugal and UK are the top returning customers and are satisifed with the hotels the most. Spain and France show small numbers of returning customers too. "
   ]
  },
  {
   "cell_type": "markdown",
   "metadata": {},
   "source": [
    "### 4. Visualizing the dataset\n",
    "\n",
    "4.1 Starting from the basics, lets plot the increase of customers over the years\n"
   ]
  },
  {
   "cell_type": "code",
   "execution_count": 11,
   "metadata": {},
   "outputs": [
    {
     "data": {
      "text/plain": [
       "[<matplotlib.lines.Line2D at 0x117e0ac18>]"
      ]
     },
     "execution_count": 11,
     "metadata": {},
     "output_type": "execute_result"
    },
    {
     "data": {
      "image/png": "[encoded data removed]",
      "text/plain": [
       "<Figure size 432x288 with 1 Axes>"
      ]
     },
     "metadata": {
      "needs_background": "light"
     },
     "output_type": "display_data"
    }
   ],
   "source": [
    "newdict = data['arrival_date_year'].value_counts().to_dict()\n",
    "\n",
    "X = []\n",
    "Y = []\n",
    "\n",
    "for key,value in sorted(newdict.items()):\n",
    "    X.append(str(key))\n",
    "    Y.append(value)\n",
    "\n",
    "plt.xlabel(\"Years\")\n",
    "plt.ylabel(\"Customers\") \n",
    "plt.plot(X,Y)"
   ]
  },
  {
   "cell_type": "markdown",
   "metadata": {},
   "source": [
    "#### The graph shows a fall in customer numbers but we donot have all the data of 2017 hence the counts dont include months after August"
   ]
  },
  {
   "cell_type": "markdown",
   "metadata": {},
   "source": [
    "4.2 We conlcuded that the most frequent visits were from customers in the UK, Portugal adn Spain. Lets visualize how many visits they have had over the years"
   ]
  },
  {
   "cell_type": "code",
   "execution_count": 12,
   "metadata": {},
   "outputs": [
    {
     "data": {
      "text/plain": [
       "<matplotlib.legend.Legend at 0x117e54a20>"
      ]
     },
     "execution_count": 12,
     "metadata": {},
     "output_type": "execute_result"
    },
    {
     "data": {
      "image/png": "[encoded data removed]",
      "text/plain": [
       "<Figure size 432x288 with 1 Axes>"
      ]
     },
     "metadata": {
      "needs_background": "light"
     },
     "output_type": "display_data"
    }
   ],
   "source": [
    "years = list(data[\"arrival_date_year\"].unique())\n",
    "X = []\n",
    "\n",
    "for year in years:\n",
    "    X.append(str(year))\n",
    "    \n",
    "Y1 = []\n",
    "Y2 = []\n",
    "Y3 = []\n",
    "\n",
    "for year in X:\n",
    "    year = int(year)\n",
    "        \n",
    "    total_count_y1 = data.query('arrival_date_year == ' +str(year)+ ' and country == \"PRT\"').size\n",
    "    Y1.append(total_count_y1)\n",
    "    \n",
    "    total_count_y2 = data.query('arrival_date_year == ' +str(year)+ ' and country == \"GBR\"').size\n",
    "    Y2.append(total_count_y2)    \n",
    "\n",
    "    total_count_y3 = data.query('arrival_date_year == ' +str(year)+ ' and country == \"ESP\"').size\n",
    "    Y3.append(total_count_y3)   \n",
    "    \n",
    "plt.xlabel(\"Years\")\n",
    "plt.ylabel(\"Count\") \n",
    "\n",
    "plt.plot(X,Y1, label = \"Portugal\")\n",
    "plt.plot(X,Y2, label = \"United Kingdom\")\n",
    "plt.plot(X,Y3, label = \"Spain\")\n",
    "\n",
    "plt.legend()\n"
   ]
  },
  {
   "cell_type": "markdown",
   "metadata": {},
   "source": [
    "#### Portugal has the highest number of returning customers however they took a steep dive in 2017. UK customers have gradually increased and customers from Spain have dropped a bit. "
   ]
  },
  {
   "cell_type": "markdown",
   "metadata": {},
   "source": [
    "4.3 Showing the number of visits in 2015, 2016 and 2017 month wise using bar graphs."
   ]
  },
  {
   "cell_type": "code",
   "execution_count": 13,
   "metadata": {},
   "outputs": [
    {
     "data": {
      "image/png": "[encoded data removed]",
      "text/plain": [
       "<Figure size 432x288 with 3 Axes>"
      ]
     },
     "metadata": {
      "needs_background": "light"
     },
     "output_type": "display_data"
    }
   ],
   "source": [
    "import datetime\n",
    "\n",
    "X = []\n",
    "month_list = []\n",
    "\n",
    "for i in range(1,13):\n",
    "    month_list.append(datetime.date(2020, i, 1).strftime('%B'))\n",
    "    X.append(datetime.date(2020, i, 1).strftime('%b'))\n",
    "    \n",
    "Y1 = []\n",
    "Y2 = []\n",
    "Y3 = []\n",
    "\n",
    "for month in month_list:\n",
    "    month = str(month)\n",
    "    \n",
    "    try:\n",
    "        total_count_y1 = data.query('arrival_date_month == \"' +str(month)+ '\" and arrival_date_year == 2015').size\n",
    "        Y1.append(total_count_y1)\n",
    "    except:\n",
    "        Y1.append(0)\n",
    "    \n",
    "    try:\n",
    "        total_count_y2 = data.query('arrival_date_month == \"' +str(month)+ '\" and arrival_date_year == 2016').size\n",
    "        Y2.append(total_count_y2)\n",
    "    except:\n",
    "        Y2.append(0)\n",
    "\n",
    "    try:\n",
    "        total_count_y3 = data.query('arrival_date_month == \"' +str(month)+ '\" and arrival_date_year == 2017').size\n",
    "        Y3.append(total_count_y3)\n",
    "    except:\n",
    "        Y3.append(0)\n",
    "\n",
    "data = [Y1, Y2, Y3]\n",
    "\n",
    "x = np.arange(12)\n",
    "ax1 = plt.subplot(1,1,1)\n",
    "w = 0.25\n",
    "\n",
    "plt.xticks(x + w /2, X, rotation='vertical')\n",
    "data2015 =ax1.bar(x, data[0], width=w, color='b', align='center')\n",
    "\n",
    "ax2 = ax1.twinx()\n",
    "data2016 =ax2.bar(x + w, data[1], width=w,color='g',align='center')\n",
    "\n",
    "ax3 = ax2.twinx()\n",
    "data2017 =ax3.bar(x + w, data[2], width=w,color='r',align='center')\n",
    "\n",
    "plt.legend([data2015, data2016, data2017],['2015', '2016', '2017'])\n",
    "\n",
    "plt.show()\n"
   ]
  },
  {
   "cell_type": "markdown",
   "metadata": {},
   "source": [
    "#### Like the insight above proves, the maximum number of customers for 2016 and 2015 is during the months of September and October, whereas 2017 shows a not only a hike in customers but a higher number of customers as compared to 2016 and 2015."
   ]
  }
 ],
 "metadata": {
  "kernelspec": {
   "display_name": "Python 3",
   "language": "python",
   "name": "python3"
  },
  "language_info": {
   "codemirror_mode": {
    "name": "ipython",
    "version": 3
   },
   "file_extension": ".py",
   "mimetype": "text/x-python",
   "name": "python",
   "nbconvert_exporter": "python",
   "pygments_lexer": "ipython3",
   "version": "3.7.7"
  }
 },
 "nbformat": 4,
 "nbformat_minor": 4
}
