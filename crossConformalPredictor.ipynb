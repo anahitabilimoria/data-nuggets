{
 "cells": [
  {
   "cell_type": "markdown",
   "id": "2597226c",
   "metadata": {},
   "source": [
    "# Grid search CV, Cross conformal predictor & SVM\n",
    "\n",
    "This assignment includes exploring and predicting data for the wine dataset and the USPS dataset\n",
    "\n",
    "## Table of contents :\n",
    "### 1.Creating pipelines and applying GridSearchCV \n",
    "1.1 Loading/ exploring the dataset (Task 1)<br>\n",
    "1.2 Splitting the dataset (Task 2)<br>\n",
    "1.3 Estimating the generalization accuracy of the MLPClassifier (Task 3) <br>\n",
    "1.4 Modifying values for MLPClassifier (Task 4) <br>\n",
    "1.5 Calculating generalisation accuracy using parameters (Task 5) <br>\n",
    "1.6 Creating pipeline and calculating score by applying grid search (Task 6/7) <br>\n",
    "1.7 Experimenting with StandardScaler, MinMaxScaler, RobustScaler, Normalizer <br>\n",
    "\n",
    "### 2. Implementing the cross conformal predictor (Task 8)\n",
    "2.1 Function to calculate cross conformity <br>\n",
    "2.2 Calculating and plotting for Wine <br>\n",
    "2.3 Calculating and plotting for USPS <br>\n",
    "\n",
    "### 3. Conclusion & Values for cross conformal predictor\n",
    "\n",
    "### 4. Implementing SVM\n",
    "4.1 Estimating the generalization accuracy of the SVC (Task 3) <br>\n",
    "4.2 Modifying values for SVC (Task 4) <br>\n",
    "4.3 Calculating generalisation accuracy using parameters (Task 5) <br>\n",
    "4.4 Creating pipeline and calculating score by applying grid search (Task 6/7) <br>\n",
    "4.5 Experimenting with StandardScaler, MinMaxScaler, RobustScaler, Normalizer <br>\n"
   ]
  },
  {
   "cell_type": "markdown",
   "id": "a511f7e1",
   "metadata": {},
   "source": [
    "# 1. Implementation of the Cross conformal predictor"
   ]
  },
  {
   "cell_type": "markdown",
   "id": "161e730d",
   "metadata": {},
   "source": [
    "### 1.1 Loading/ Exploring the datasets (Task 1)"
   ]
  },
  {
   "cell_type": "code",
   "execution_count": 1,
   "id": "f90322f4",
   "metadata": {},
   "outputs": [],
   "source": [
    "import numpy as np\n",
    "from sklearn.datasets import load_wine \n",
    "from sklearn.model_selection import train_test_split, cross_val_score, GridSearchCV, KFold\n",
    "from sklearn.neural_network import MLPClassifier\n",
    "import math\n",
    "import matplotlib.pyplot as plt\n",
    "from sklearn.pipeline import Pipeline, make_pipeline\n",
    "from sklearn.preprocessing import MinMaxScaler, StandardScaler, MinMaxScaler, RobustScaler, Normalizer\n",
    "np.set_printoptions(suppress=True)"
   ]
  },
  {
   "cell_type": "code",
   "execution_count": 2,
   "id": "2808bfe0",
   "metadata": {},
   "outputs": [],
   "source": [
    "# Wine\n",
    "wine = load_wine()\n",
    "\n",
    "# USPS\n",
    "USPS_train = np.genfromtxt(\"train\")\n",
    "USPS_test = np.genfromtxt(\"test\")\n",
    "USPS_main = np.concatenate((USPS_train, USPS_test))"
   ]
  },
  {
   "cell_type": "code",
   "execution_count": 3,
   "id": "410d4136",
   "metadata": {},
   "outputs": [
    {
     "name": "stdout",
     "output_type": "stream",
     "text": [
      "WINE dataset details\n",
      "Shape :  (178, 13)\n",
      "Feature Names :  ['alcohol', 'malic_acid', 'ash', 'alcalinity_of_ash', 'magnesium', 'total_phenols', 'flavanoids', 'nonflavanoid_phenols', 'proanthocyanins', 'color_intensity', 'hue', 'od280/od315_of_diluted_wines', 'proline']\n",
      "Labels :  ['class_0' 'class_1' 'class_2']\n",
      "\n",
      "USPS dataset details\n",
      "Shape :  (9298, 257)\n",
      "Sample row :  [[ 2.    -1.    -1.    -1.    -1.    -0.558  0.933  0.053 -1.    -1.\n",
      "  -1.    -1.    -1.    -1.    -1.    -1.    -1.    -1.    -1.    -1.\n",
      "  -1.     0.234  1.     0.911 -0.594 -1.    -1.    -1.    -1.    -1.\n",
      "  -1.    -1.    -1.    -1.    -1.    -1.    -1.    -0.81  -0.003  0.885\n",
      "   1.    -0.032 -1.    -1.    -1.    -1.    -1.    -1.    -1.    -1.\n",
      "  -1.    -1.    -1.    -1.    -1.    -0.444  0.782  1.    -0.114 -1.\n",
      "  -1.    -1.    -1.    -1.    -1.    -1.    -1.    -1.    -1.    -1.\n",
      "  -1.    -1.    -0.421  0.925  0.96  -0.402 -1.    -1.    -1.    -1.\n",
      "  -1.    -1.    -1.    -1.    -1.    -1.    -1.    -1.    -1.    -0.476\n",
      "   0.899  0.792 -0.807 -1.    -1.    -1.    -1.    -1.    -1.    -1.\n",
      "  -1.    -1.    -1.    -1.    -1.    -1.     0.159  1.     0.302 -0.972\n",
      "  -1.    -1.    -1.    -1.    -1.    -1.    -1.    -1.    -1.    -1.\n",
      "  -1.    -1.    -0.774  0.832  1.    -0.732 -1.    -1.    -1.    -1.\n",
      "  -1.    -1.    -1.    -1.    -1.    -1.    -1.    -1.    -1.     0.202\n",
      "   1.     0.124 -1.    -1.    -1.    -1.    -1.    -1.    -1.    -1.\n",
      "  -1.    -0.327  0.143  0.046 -0.597 -0.082  1.     0.082 -1.    -1.\n",
      "  -1.    -1.    -1.    -1.    -0.714  0.49   1.     1.     1.     1.\n",
      "   1.     0.674  1.    -0.368 -1.    -1.    -1.    -1.    -1.    -1.\n",
      "   0.451  1.     0.302 -0.633 -0.143  0.048  0.691  1.     1.    -0.737\n",
      "  -1.    -1.    -1.    -1.    -1.    -1.     0.411  1.    -0.411 -1.\n",
      "  -1.    -1.    -0.739  0.926  0.739 -0.926 -1.    -1.    -1.    -1.\n",
      "  -1.    -1.    -0.526  1.     0.2   -1.    -1.    -0.604  0.792  1.\n",
      "  -0.209 -1.    -1.    -1.    -1.    -1.    -1.    -1.    -0.98   0.271\n",
      "   1.     1.     1.     1.     1.    -0.047 -1.    -1.    -1.    -1.\n",
      "  -1.    -1.    -1.    -1.    -1.    -0.965  0.052  0.96   1.     0.416\n",
      "  -0.45  -0.994 -1.    -1.    -1.    -1.    -1.   ]]\n"
     ]
    }
   ],
   "source": [
    "# WINE\n",
    "print(\"WINE dataset details\")\n",
    "print(\"Shape : \", wine['data'].shape)\n",
    "print(\"Feature Names : \",wine['feature_names'])\n",
    "print(\"Labels : \",wine['target_names'])\n",
    "print()\n",
    "\n",
    "# USPS\n",
    "print(\"USPS dataset details\")\n",
    "print(\"Shape : \",np.shape(USPS_main))\n",
    "print(\"Sample row : \", USPS_main[np.random.choice(USPS_main.shape[0], size=1, replace=False), :])"
   ]
  },
  {
   "cell_type": "markdown",
   "id": "5f398ca4",
   "metadata": {},
   "source": [
    "### 1.2 Splitting the datasets (Task 2)"
   ]
  },
  {
   "cell_type": "code",
   "execution_count": 4,
   "id": "337a83cc",
   "metadata": {},
   "outputs": [],
   "source": [
    "# WINE\n",
    "X_train, X_test, y_train, y_test = train_test_split(wine['data'],wine['target'], random_state=2110)\n",
    "\n",
    "# USPS\n",
    "X_train_USPS, X_test_USPS, y_train_USPS, y_test_USPS = train_test_split(USPS_main[:,1:257], USPS_main[:,0], random_state=2110)\n"
   ]
  },
  {
   "cell_type": "markdown",
   "id": "0608ff0d",
   "metadata": {},
   "source": [
    "### 1.3 Estimating the generalization accuracy of the MLPClassifier (Task 3)"
   ]
  },
  {
   "cell_type": "code",
   "execution_count": 5,
   "id": "1964ed71",
   "metadata": {},
   "outputs": [
    {
     "name": "stderr",
     "output_type": "stream",
     "text": [
      "/opt/anaconda3/lib/python3.8/site-packages/sklearn/neural_network/_multilayer_perceptron.py:614: ConvergenceWarning: Stochastic Optimizer: Maximum iterations (200) reached and the optimization hasn't converged yet.\n",
      "  warnings.warn(\n",
      "/opt/anaconda3/lib/python3.8/site-packages/sklearn/neural_network/_multilayer_perceptron.py:614: ConvergenceWarning: Stochastic Optimizer: Maximum iterations (200) reached and the optimization hasn't converged yet.\n",
      "  warnings.warn(\n"
     ]
    },
    {
     "name": "stdout",
     "output_type": "stream",
     "text": [
      "Error rate Wine:  0.7652421652421653\n",
      "Error rate USPS:  0.9645798943757938\n"
     ]
    }
   ],
   "source": [
    "mlp = MLPClassifier(random_state=2110).fit(X_train, y_train)\n",
    "calculatedScoreList = cross_val_score(mlp, X_train, y_train, cv = 5)\n",
    "finalScore = np.mean(calculatedScoreList)\n",
    "print(\"Error rate Wine: \",finalScore)\n",
    "\n",
    "mlp_USPS = MLPClassifier(random_state=2110).fit(X_train_USPS, y_train_USPS)\n",
    "calculatedScoreList_USPS = cross_val_score(mlp_USPS, X_train_USPS, y_train_USPS, cv = 5)\n",
    "finalScore_USPS = np.mean(calculatedScoreList_USPS)\n",
    "print(\"Error rate USPS: \",finalScore_USPS)"
   ]
  },
  {
   "cell_type": "markdown",
   "id": "572f2ef2",
   "metadata": {},
   "source": [
    "For default values of the MLPClassifier we can get a score of 0.7652421652421653 with warnings. We thus compute the accuracy for a changed number of maximum iterations, by adding the activation using 'tanh' and solver as 'lbfgs'."
   ]
  },
  {
   "cell_type": "markdown",
   "id": "b8740819",
   "metadata": {},
   "source": [
    "### 1.4 Modifying values for MLPClassifier (Task 4)"
   ]
  },
  {
   "cell_type": "code",
   "execution_count": 6,
   "id": "8bd69aa9",
   "metadata": {},
   "outputs": [
    {
     "name": "stdout",
     "output_type": "stream",
     "text": [
      "(Wine) Generalisation accuracy for X train using default MLP activation and solver is :  0.7874643874643874\n",
      "(USPS) Generalisation accuracy for X train using default MLP activation and solver is :  0.9645798943757938\n"
     ]
    }
   ],
   "source": [
    "mlp = MLPClassifier(random_state=2110, \n",
    "                    max_iter=1500).fit(X_train, y_train)\n",
    "calculatedScoreList = cross_val_score(mlp, X_train, y_train, cv = 5)\n",
    "crossValFinalScore = np.mean(calculatedScoreList)\n",
    "print(\"(Wine) Generalisation accuracy for X train using default MLP activation and solver is : \", crossValFinalScore)\n",
    "\n",
    "mlp_USPS = MLPClassifier(random_state=2110, \n",
    "                    max_iter=1500).fit(X_train_USPS, y_train_USPS)\n",
    "calculatedScoreList_USPS = cross_val_score(mlp_USPS, X_train_USPS, y_train_USPS, cv = 5)\n",
    "crossValFinalScore_USPS = np.mean(calculatedScoreList_USPS)\n",
    "print(\"(USPS) Generalisation accuracy for X train using default MLP activation and solver is : \", crossValFinalScore_USPS)"
   ]
  },
  {
   "cell_type": "code",
   "execution_count": 7,
   "id": "c5c3a0cd",
   "metadata": {},
   "outputs": [
    {
     "name": "stdout",
     "output_type": "stream",
     "text": [
      "(Wine) Test error rate for the default MLP classifier is :  0.5111111111111111\n",
      "(USPS) Test error rate for the default MLP classifier is :  0.963010752688172\n"
     ]
    }
   ],
   "source": [
    "mlpFinalScore = mlp.score(X_test, y_test)\n",
    "print(\"(Wine) Test error rate for the default MLP classifier is : \", mlpFinalScore)\n",
    "mlpFinalScore_USPS = mlp_USPS.score(X_test_USPS, y_test_USPS)\n",
    "print(\"(USPS) Test error rate for the default MLP classifier is : \", mlpFinalScore_USPS)"
   ]
  },
  {
   "cell_type": "markdown",
   "id": "d31afb33",
   "metadata": {},
   "source": [
    "### 1.5 Calculating generalisation accuracy using parameters (Task 5)"
   ]
  },
  {
   "cell_type": "code",
   "execution_count": 8,
   "id": "776a937b",
   "metadata": {},
   "outputs": [
    {
     "name": "stdout",
     "output_type": "stream",
     "text": [
      "(Wine) Generalisation accuracy for X train using activation tanh and solver lbfgs is :  0.9247863247863247\n",
      "(Wine) Test error rate for the MLP classifier using activation tanh and solver lbfgs is :  0.9555555555555556\n",
      "\n",
      "(USPS) Generalisation accuracy for X train using activation tanh and solver lbfgs is :  0.9502385543779537\n",
      "(USPS) Test error rate for the MLP classifier using activation tanh and solver lbfgs is :  0.9466666666666667\n"
     ]
    }
   ],
   "source": [
    "mlp = MLPClassifier(random_state=2110, activation = 'tanh', solver = 'lbfgs',\n",
    "                    max_iter=10000).fit(X_train, y_train)\n",
    "calculatedScoreList = cross_val_score(mlp, X_train, y_train, cv = 5)\n",
    "crossValFinalScore = np.mean(calculatedScoreList)\n",
    "print(\"(Wine) Generalisation accuracy for X train using activation tanh and solver lbfgs is : \", crossValFinalScore)\n",
    "\n",
    "mlp = MLPClassifier(random_state=2110, activation = 'tanh', solver = 'lbfgs',\n",
    "                    max_iter=10000).fit(X_train, y_train)\n",
    "mlpFinalScore = mlp.score(X_test, y_test)\n",
    "print(\"(Wine) Test error rate for the MLP classifier using activation tanh and solver lbfgs is : \", mlpFinalScore)\n",
    "print()\n",
    "\n",
    "mlp_USPS = MLPClassifier(random_state=2110, activation = 'tanh', solver = 'lbfgs',\n",
    "                    max_iter=10000).fit(X_train_USPS, y_train_USPS)\n",
    "calculatedScoreList_USPS = cross_val_score(mlp_USPS, X_train_USPS, y_train_USPS, cv = 5)\n",
    "crossValFinalScore_USPS = np.mean(calculatedScoreList_USPS)\n",
    "print(\"(USPS) Generalisation accuracy for X train using activation tanh and solver lbfgs is : \", crossValFinalScore_USPS)\n",
    "\n",
    "mlp_USPS = MLPClassifier(random_state=2110, activation = 'tanh', solver = 'lbfgs',\n",
    "                    max_iter=10000).fit(X_train_USPS, y_train_USPS)\n",
    "mlpFinalScore_USPS = mlp_USPS.score(X_test_USPS, y_test_USPS)\n",
    "print(\"(USPS) Test error rate for the MLP classifier using activation tanh and solver lbfgs is : \", mlpFinalScore_USPS)\n",
    "\n"
   ]
  },
  {
   "cell_type": "markdown",
   "id": "6b5f8b4b",
   "metadata": {},
   "source": [
    "For default values of MLPClassifier the estimate is 0.7874 while the score from the default MLPClassifier is 0.511.  Upon comparing the estimates after setting activation as tanh and solver as lbfgs we can conclude that the dataset is significantly small causing overfitting which leads to a higher value for the test set. The values after setting activation and solver as tanh and lbfgs the new estimates are 0.9247863247863247 for the generalisation accuracy and 0.9555555555555556 for the test score. For the USPS dataset the values decrease for the test set as the data is significantly high. "
   ]
  },
  {
   "cell_type": "markdown",
   "id": "45727149",
   "metadata": {},
   "source": [
    "### 1.6 Creating pipeline and calculating score using applying grid search (Task 6/ 7)"
   ]
  },
  {
   "cell_type": "code",
   "execution_count": 9,
   "id": "9ed72ddc",
   "metadata": {},
   "outputs": [
    {
     "name": "stdout",
     "output_type": "stream",
     "text": [
      "(Wine) Pipe score for StandardScaler :  0.9777777777777777\n",
      "(Wine) Grid score for StandardScaler :  0.9777777777777777\n",
      "(Wine) Best params for StandardScaler :  {'mlp__alpha': 1}\n",
      "\n",
      "(Wine) Pipe score for Normalizer :  0.9111111111111111\n",
      "(Wine) Grid score for Normalizer :  0.9111111111111111\n",
      "(Wine) Best params for Normalizer :  {'mlp__alpha': 0.001}\n",
      "\n",
      "(USPS) Pipe score for StandardScaler :  0.9634408602150538\n",
      "(USPS) Grid score for StandardScaler :  0.9664516129032258\n",
      "(USPS) Best params for StandardScaler :  {'mlp__alpha': 0.1}\n",
      "\n",
      "(USPS) Pipe score for Normalizer :  0.96\n",
      "(USPS) Grid score for Normalizer :  0.9621505376344086\n",
      "(USPS) Best params for Normalizer :  {'mlp__alpha': 0.01}\n",
      "\n"
     ]
    }
   ],
   "source": [
    "standardPipe = Pipeline([(\"scaler\", StandardScaler()), (\"mlp\", MLPClassifier(random_state=2110, max_iter=10000))])\n",
    "standardPipe.fit(X_train, y_train)\n",
    "standardPipeTestScore = standardPipe.score(X_test, y_test)\n",
    "param_grid = {'mlp__alpha': [0.0001, 0.001, 0.01, 0.1, 1, 10, 100]}\n",
    "standardGrid = GridSearchCV(standardPipe, param_grid, cv=5, n_jobs= -2)\n",
    "standardGrid.fit(X_train, y_train)\n",
    "print(\"(Wine) Pipe score for StandardScaler : \",standardPipeTestScore)\n",
    "print(\"(Wine) Grid score for StandardScaler : \",standardGrid.score(X_test, y_test))\n",
    "print(\"(Wine) Best params for StandardScaler : \",standardGrid.best_params_)\n",
    "print()\n",
    "\n",
    "normalPipe = Pipeline([(\"scaler\", Normalizer()), (\"mlp\", MLPClassifier(random_state=2110, max_iter=10000))])\n",
    "normalPipe.fit(X_train, y_train)\n",
    "normalPipeTestScore = normalPipe.score(X_test, y_test)\n",
    "param_grid = {'mlp__alpha': [0.0001, 0.001, 0.01, 0.1, 1, 10, 100]}\n",
    "normalGrid = GridSearchCV(normalPipe, param_grid, cv=5, n_jobs= -2)\n",
    "normalGrid.fit(X_train, y_train)\n",
    "print(\"(Wine) Pipe score for Normalizer : \",normalPipeTestScore)\n",
    "print(\"(Wine) Grid score for Normalizer : \",normalGrid.score(X_test, y_test))\n",
    "print(\"(Wine) Best params for Normalizer : \",normalGrid.best_params_)\n",
    "print()\n",
    "\n",
    "standardPipe_USPS = Pipeline([(\"scaler\", StandardScaler()), (\"mlp\", MLPClassifier(random_state=2110, max_iter=10000))])\n",
    "standardPipe_USPS.fit(X_train_USPS, y_train_USPS)\n",
    "standardPipeTestScore_USPS = standardPipe_USPS.score(X_test_USPS, y_test_USPS)\n",
    "standardGrid_USPS = GridSearchCV(standardPipe_USPS, param_grid, cv=5, n_jobs= -2)\n",
    "standardGrid_USPS.fit(X_train_USPS, y_train_USPS)\n",
    "print(\"(USPS) Pipe score for StandardScaler : \",standardPipeTestScore_USPS)\n",
    "print(\"(USPS) Grid score for StandardScaler : \",standardGrid_USPS.score(X_test_USPS, y_test_USPS))\n",
    "print(\"(USPS) Best params for StandardScaler : \",standardGrid_USPS.best_params_)\n",
    "print()\n",
    "\n",
    "normalPipe_USPS = Pipeline([(\"scaler\", Normalizer()), (\"mlp\", MLPClassifier(random_state=2110, max_iter=10000))])\n",
    "normalPipe_USPS.fit(X_train_USPS, y_train_USPS)\n",
    "normalPipeTestScore_USPS = normalPipe_USPS.score(X_test_USPS, y_test_USPS)\n",
    "normalGrid_USPS = GridSearchCV(normalPipe_USPS, param_grid, cv=5, n_jobs= -2)\n",
    "normalGrid_USPS.fit(X_train_USPS, y_train_USPS)\n",
    "print(\"(USPS) Pipe score for Normalizer : \",normalPipeTestScore_USPS)\n",
    "print(\"(USPS) Grid score for Normalizer : \",normalGrid_USPS.score(X_test_USPS, y_test_USPS))\n",
    "print(\"(USPS) Best params for Normalizer : \",normalGrid_USPS.best_params_)\n",
    "print()"
   ]
  },
  {
   "cell_type": "markdown",
   "id": "ea1ff016",
   "metadata": {},
   "source": [
    "### 1.7 Experimenting with StandardScaler, MinMaxScaler, RobustScaler, Normalizer"
   ]
  },
  {
   "cell_type": "code",
   "execution_count": 10,
   "id": "dd852f7d",
   "metadata": {},
   "outputs": [
    {
     "name": "stdout",
     "output_type": "stream",
     "text": [
      "(Wine) Pipe test score for MinMaxScaler :  0.9777777777777777\n",
      "(Wine) Pipe test score for RobustScaler :  0.9777777777777777\n",
      "(Wine) Pipe test score for Normalizer :  0.9111111111111111\n",
      "\n",
      "(USPS) Pipe test score for MinMaxScaler :  0.9625806451612903\n",
      "(USPS) Pipe test score for RobustScaler :  0.9505376344086022\n",
      "(USPS) Pipe test score for Normalizer :  0.96\n"
     ]
    }
   ],
   "source": [
    "minMaxPipe = Pipeline([(\"scaler\", MinMaxScaler()), (\"mlp\", MLPClassifier(random_state=2110, max_iter=10000))])\n",
    "minMaxPipe.fit(X_train, y_train)\n",
    "minMaxPipeTestScore = minMaxPipe.score(X_test, y_test)\n",
    "print(\"(Wine) Pipe test score for MinMaxScaler : \", minMaxPipeTestScore)\n",
    "robustPipe = Pipeline([(\"scaler\", RobustScaler()), (\"mlp\", MLPClassifier(random_state=2110, max_iter=10000))])\n",
    "robustPipe.fit(X_train, y_train)\n",
    "robustPipeTestScore = robustPipe.score(X_test, y_test)\n",
    "print(\"(Wine) Pipe test score for RobustScaler : \", robustPipeTestScore)\n",
    "noramlPipe = Pipeline([(\"scaler\", Normalizer()), (\"mlp\", MLPClassifier(random_state=2110, max_iter=10000))])\n",
    "noramlPipe.fit(X_train, y_train)\n",
    "normalPipeTestScore = noramlPipe.score(X_test, y_test)\n",
    "print(\"(Wine) Pipe test score for Normalizer : \", normalPipeTestScore)\n",
    "print()\n",
    "minMaxPipe_USPS = Pipeline([(\"scaler\", MinMaxScaler()), (\"mlp\", MLPClassifier(random_state=2110, max_iter=10000))])\n",
    "minMaxPipe_USPS.fit(X_train_USPS, y_train_USPS)\n",
    "minMaxPipeTestScore_USPS = minMaxPipe_USPS.score(X_test_USPS, y_test_USPS)\n",
    "print(\"(USPS) Pipe test score for MinMaxScaler : \", minMaxPipeTestScore_USPS)\n",
    "robustPipe_USPS = Pipeline([(\"scaler\", RobustScaler()), (\"mlp\", MLPClassifier(random_state=2110, max_iter=10000))])\n",
    "robustPipe_USPS.fit(X_train_USPS, y_train_USPS)\n",
    "robustPipeTestScore_USPS = robustPipe_USPS.score(X_test_USPS, y_test_USPS)\n",
    "print(\"(USPS) Pipe test score for RobustScaler : \", robustPipeTestScore_USPS)\n",
    "noramlPipe_USPS = Pipeline([(\"scaler\", Normalizer()), (\"mlp\", MLPClassifier(random_state=2110, max_iter=10000))])\n",
    "noramlPipe_USPS.fit(X_train_USPS, y_train_USPS)\n",
    "normalPipeTestScore_USPS = noramlPipe_USPS.score(X_test_USPS, y_test_USPS)\n",
    "print(\"(USPS) Pipe test score for Normalizer : \", normalPipeTestScore_USPS)"
   ]
  },
  {
   "cell_type": "markdown",
   "id": "9dc72463",
   "metadata": {},
   "source": [
    "Upon observing the pipe test scores for each type of scaler we conclude that for the Wine dataset the MinMaxScaler, RobustScaler and the StandardScaler have the same scores and any one can be used whereas for the USPS dataset the highest score is for the StandardScaler and we can use it for our further observations. "
   ]
  },
  {
   "cell_type": "markdown",
   "id": "f656db48",
   "metadata": {},
   "source": [
    "# 2. Implementing the cross conformal predictor (Task 8)\n",
    "\n",
    "### 2.1 Creating folds"
   ]
  },
  {
   "cell_type": "code",
   "execution_count": 11,
   "id": "4c09c21a",
   "metadata": {},
   "outputs": [],
   "source": [
    "'''\n",
    "    input arguments - \n",
    "        no of folds\n",
    "        train set\n",
    "        train labels\n",
    "        grid object\n",
    "        test set\n",
    "    \n",
    "    output arguments - \n",
    "        final p value list \n",
    "        matrix with p values   \n",
    "'''\n",
    "def crossConformalPredictor(n, trainSet, labelSet, standardGrid, testSet):\n",
    "    \n",
    "    # compute folds \n",
    "    kf = KFold(n_splits=5,shuffle=True,random_state=2110)\n",
    "    finalPValueList = []\n",
    "    \n",
    "    mainMatrix = np.zeros(shape=(testSet.shape[0],len(np.unique(labelSet))))\n",
    "    \n",
    "    # for each fold run the following \n",
    "    for rest_index, fold_index in kf.split(trainSet):\n",
    "        \n",
    "        # get X rest and X fold, Y rest and Y fold\n",
    "        X_rest, X_fold = trainSet[rest_index], trainSet[fold_index]\n",
    "        y_rest, y_fold = labelSet[rest_index], labelSet[fold_index] \n",
    "        \n",
    "        # fit current fold to GridSearch obj\n",
    "        standardGrid.fit(X_rest, y_rest)\n",
    "        predLabelList = []\n",
    "        falsePValueList = []\n",
    "        \n",
    "        for testSample in range(testSet.shape[0]):\n",
    "            # append test sample to current fold\n",
    "            currentFold = X_fold\n",
    "            currentFold = np.append(currentFold, [testSet[testSample,:]], axis = 0)\n",
    "               \n",
    "            # get probability list of test sample\n",
    "            pValueList = list(standardGrid.predict_proba(currentFold)[-1])\n",
    "            \n",
    "            # compute sum of probabilites for all folds\n",
    "            mainMatrix[testSample,:] += standardGrid.predict_proba(currentFold)[-1]\n",
    "            \n",
    "            # appending to false p value list\n",
    "            pValueList.remove(max(pValueList))\n",
    "            falsePValueList.extend(pValueList)\n",
    "        \n",
    "        # getting total average of all false p values for each fold\n",
    "        finalPValueList.append(np.mean(falsePValueList))\n",
    "        \n",
    "    return finalPValueList, mainMatrix/kf.get_n_splits()"
   ]
  },
  {
   "cell_type": "markdown",
   "id": "d139fa83",
   "metadata": {},
   "source": [
    "### 2.2 Calculating and plotting for Wine"
   ]
  },
  {
   "cell_type": "code",
   "execution_count": 12,
   "id": "ef16fa55",
   "metadata": {},
   "outputs": [
    {
     "name": "stdout",
     "output_type": "stream",
     "text": [
      "Total average false p value : \n",
      "0.024059398276700054\n"
     ]
    },
    {
     "data": {
      "image/png": "[encoded data removed]",
      "text/plain": [
       "<Figure size 432x288 with 1 Axes>"
      ]
     },
     "metadata": {
      "needs_background": "light"
     },
     "output_type": "display_data"
    }
   ],
   "source": [
    "falsePValueList, mainMatrix  = crossConformalPredictor(5, X_train, y_train, standardGrid, X_test)\n",
    "\n",
    "# computing significance level and error rates based on Lab 9\n",
    "eps = np.zeros(100)  \n",
    "err = np.zeros(100) \n",
    "for k in range(100):\n",
    "    eps[k] = k/100 \n",
    "    err[k] = 0 \n",
    "    for j in range(y_test.shape[0]):\n",
    "        if (mainMatrix[j,y_test[j]] <= eps[k]): \n",
    "            err[k] = err[k] + 1 \n",
    "    err[k] = err[k] / y_test.shape[0] \n",
    "plt.plot(eps,err)\n",
    "plt.xlabel('Significance levels')\n",
    "plt.ylabel('Error rates')\n",
    "\n",
    "print(\"Total average false p value : \")\n",
    "print(np.mean(falsePValueList))"
   ]
  },
  {
   "cell_type": "markdown",
   "id": "4a1b0c2f",
   "metadata": {},
   "source": [
    "### 2.2 Calculating and plotting for USPS"
   ]
  },
  {
   "cell_type": "code",
   "execution_count": 13,
   "id": "4e36ec4d",
   "metadata": {},
   "outputs": [
    {
     "name": "stdout",
     "output_type": "stream",
     "text": [
      "Total average false p value : \n",
      "0.003116466840637911\n"
     ]
    },
    {
     "data": {
      "image/png": "[encoded data removed]",
      "text/plain": [
       "<Figure size 432x288 with 1 Axes>"
      ]
     },
     "metadata": {
      "needs_background": "light"
     },
     "output_type": "display_data"
    }
   ],
   "source": [
    "falsePValueList, mainMatrix  = crossConformalPredictor(5, X_train_USPS, y_train_USPS, standardGrid_USPS, X_test_USPS)\n",
    "\n",
    "# computing significance level and error rates based on Lab 9\n",
    "eps = np.zeros(100)  \n",
    "err = np.zeros(100) \n",
    "for k in range(100):\n",
    "    eps[k] = k/100 \n",
    "    err[k] = 0 \n",
    "    for j in range(y_test_USPS.shape[0]):\n",
    "        if (mainMatrix[j,int(y_test_USPS[j])] <= eps[k]): \n",
    "            err[k] = err[k] + 1 \n",
    "    err[k] = err[k] / y_test_USPS.shape[0] \n",
    "plt.plot(eps,err)\n",
    "plt.xlabel('Significance levels')\n",
    "plt.ylabel('Error rates')\n",
    "\n",
    "print(\"Total average false p value : \")\n",
    "print(np.mean(falsePValueList))"
   ]
  },
  {
   "cell_type": "markdown",
   "id": "7d5b8dd7",
   "metadata": {},
   "source": [
    "# 3. Conclusion & Values for cross conformal predictor\n",
    "\n",
    "Cross val score for default values (no random state) of MLP (Wine):  0.7652421652421653 <br>\n",
    "Cross val score default values (no random state) of MLP (USPS):  0.9645798943757938 <br>\n",
    "<br>\n",
    "(Wine) Generalisation accuracy for X train using default MLP activation and solver is :  0.7874643874643874<br>\n",
    "(USPS) Generalisation accuracy for X train using default MLP activation and solver is :  0.9645798943757938<br>\n",
    "<br>\n",
    "(Wine) Generalisation accuracy for X train using activation tanh and solver lbfgs is :  0.9247863247863247<br>\n",
    "(Wine) Test error rate for the MLP classifier using activation tanh and solver lbfgs is :  0.9555555555555556<br>\n",
    "<br>\n",
    "(USPS) Generalisation accuracy for X train using activation tanh and solver lbfgs is :  0.9502385543779537<br>\n",
    "(USPS) Test error rate for the MLP classifier using activation tanh and solver lbfgs is :  0.9466666666666667<br>\n",
    "<br>\n",
    "(Wine) Pipe score for StandardScaler :  0.9777777777777777<br>\n",
    "(Wine) Grid score for StandardScaler :  0.9777777777777777<br>\n",
    "(Wine) Best params for StandardScaler :  {'mlp__alpha': 1}<br>\n",
    "<br>\n",
    "(Wine) Pipe score for Normalizer :  0.9111111111111111<br>\n",
    "(Wine) Grid score for Normalizer :  0.9111111111111111<br>\n",
    "(Wine) Best params for Normalizer :  {'mlp__alpha': 0.001}<br>\n",
    "<br>\n",
    "(USPS) Pipe score for StandardScaler :  0.9634408602150538<br>\n",
    "(USPS) Grid score for StandardScaler :  0.9664516129032258<br>\n",
    "(USPS) Best params for StandardScaler :  {'mlp__alpha': 0.1}<br>\n",
    "<br>\n",
    "(USPS) Pipe score for Normalizer :  0.96<br>\n",
    "(USPS) Grid score for Normalizer :  0.9621505376344086<br>\n",
    "(USPS) Best params for Normalizer :  {'mlp__alpha': 0.01}<br>\n",
    "<br>\n",
    "(Wine) Pipe test score for MinMaxScaler :  0.9777777777777777<br>\n",
    "(Wine) Pipe test score for RobustScaler :  0.9777777777777777<br>\n",
    "(Wine) Pipe test score for Normalizer :  0.9111111111111111<br>\n",
    "<br>\n",
    "(USPS) Pipe test score for MinMaxScaler :  0.9625806451612903<br>\n",
    "(USPS) Pipe test score for RobustScaler :  0.9505376344086022<br>\n",
    "(USPS) Pipe test score for Normalizer :  0.96<br>\n",
    "<br>\n",
    "Total average false p value (Wine) : <br>\n",
    "0.024059398276700054<br>\n",
    "<br>\n",
    "Total average false p value (USPS) : <br>\n",
    "0.003116466840637911<br>"
   ]
  },
  {
   "cell_type": "markdown",
   "id": "5deede43",
   "metadata": {},
   "source": [
    "# 4. Implementing SVM\n",
    "\n",
    "### 4.1 Estimating the generalization accuracy of the SVC (Task 3) "
   ]
  },
  {
   "cell_type": "code",
   "execution_count": 14,
   "id": "a5692282",
   "metadata": {},
   "outputs": [
    {
     "name": "stdout",
     "output_type": "stream",
     "text": [
      "(Wine) Generalisation accuracy for X train using default MLP activation and solver is :  0.7065527065527066\n",
      "(USPS) Generalisation accuracy for X train using default MLP activation and solver is :  0.971749175935782\n"
     ]
    }
   ],
   "source": [
    "from sklearn.svm import SVC\n",
    "\n",
    "# Wine\n",
    "svc = SVC(random_state=2110, max_iter=1500).fit(X_train, y_train)\n",
    "calculatedScoreList = cross_val_score(svc, X_train, y_train, cv = 5)\n",
    "crossValFinalScore = np.mean(calculatedScoreList)\n",
    "print(\"(Wine) Generalisation accuracy for X train using default SVC is : \", crossValFinalScore)\n",
    "\n",
    "#USPS\n",
    "svc_USPS = SVC(random_state=2110, max_iter=1500).fit(X_train_USPS, y_train_USPS)\n",
    "calculatedScoreList_USPS = cross_val_score(svc_USPS, X_train_USPS, y_train_USPS, cv = 5)\n",
    "crossValFinalScore_USPS = np.mean(calculatedScoreList_USPS)\n",
    "print(\"(USPS) Generalisation accuracy for X train using default SVC is : \", crossValFinalScore_USPS)\n"
   ]
  },
  {
   "cell_type": "code",
   "execution_count": 15,
   "id": "eb87ff30",
   "metadata": {},
   "outputs": [
    {
     "name": "stdout",
     "output_type": "stream",
     "text": [
      "(Wine) Test error rate for the default MLP classifier is :  0.5777777777777777\n",
      "(USPS) Test error rate for the default MLP classifier is :  0.9724731182795698\n"
     ]
    }
   ],
   "source": [
    "svcFinalScore = svc.score(X_test, y_test)\n",
    "print(\"(Wine) Test error rate for the default SVC is : \", svcFinalScore)\n",
    "svcFinalScore_USPS = svc_USPS.score(X_test_USPS, y_test_USPS)\n",
    "print(\"(USPS) Test error rate for the default SVC  is : \", svcFinalScore_USPS)"
   ]
  },
  {
   "cell_type": "markdown",
   "id": "f6a92916",
   "metadata": {},
   "source": [
    "### Creating pipeline and calculating score using applying grid search (Task 6/7)"
   ]
  },
  {
   "cell_type": "code",
   "execution_count": 18,
   "id": "9f33ab0d",
   "metadata": {},
   "outputs": [
    {
     "name": "stdout",
     "output_type": "stream",
     "text": [
      "(Wine) Pipe score for StandardScaler :  1.0\n",
      "(Wine) Grid score for StandardScaler :  0.9555555555555556\n",
      "(Wine) Best params for StandardScaler :  {'svc__C': 10, 'svc__gamma': 0.01}\n",
      "\n",
      "(Wine) Pipe score for Normalizer :  0.24444444444444444\n",
      "(Wine) Grid score for Normalizer :  0.9555555555555556\n",
      "(Wine) Best params for Normalizer :  {'svc__C': 100, 'svc__gamma': 100}\n",
      "\n",
      "(USPS) Pipe score for StandardScaler :  0.9647311827956989\n",
      "(USPS) Grid score for StandardScaler :  0.9612903225806452\n",
      "(USPS) Best params for StandardScaler :  {'svc__C': 100, 'svc__gamma': 0.001}\n",
      "\n",
      "(USPS) Pipe score for Normalizer :  0.9724731182795698\n",
      "(USPS) Grid score for Normalizer :  0.9729032258064516\n",
      "(USPS) Best params for Normalizer :  {'svc__C': 10, 'svc__gamma': 1}\n",
      "\n"
     ]
    }
   ],
   "source": [
    "standardPipeSVC = Pipeline([(\"scaler\", StandardScaler()), (\"svc\", SVC(random_state=2110, max_iter=10000))])\n",
    "standardPipeSVC.fit(X_train, y_train)\n",
    "standardPipeSVCTestScore = standardPipeSVC.score(X_test, y_test)\n",
    "param_grid = {'svc__C': [0.01, 0.1, 1, 10, 100],'svc__gamma': [0.001, 0.01, 0.1, 1, 10, 100]}\n",
    "standardGridSVC = GridSearchCV(standardPipeSVC, param_grid, cv=5, n_jobs= -2)\n",
    "standardGridSVC.fit(X_train, y_train)\n",
    "print(\"(Wine) Pipe score for StandardScaler : \",standardPipeSVCTestScore)\n",
    "print(\"(Wine) Grid score for StandardScaler : \",standardGridSVC.score(X_test, y_test))\n",
    "print(\"(Wine) Best params for StandardScaler : \",standardGridSVC.best_params_)\n",
    "print()\n",
    "\n",
    "normalPipeSVC = Pipeline([(\"scaler\", Normalizer()), (\"svc\", SVC(random_state=2110, max_iter=10000))])\n",
    "normalPipeSVC.fit(X_train, y_train)\n",
    "normalPipeSVCTestScore = normalPipeSVC.score(X_test, y_test)\n",
    "normalGridSVC = GridSearchCV(normalPipeSVC, param_grid, cv=5, n_jobs= -2)\n",
    "normalGridSVC.fit(X_train, y_train)\n",
    "print(\"(Wine) Pipe score for Normalizer : \",normalPipeSVCTestScore)\n",
    "print(\"(Wine) Grid score for Normalizer : \",normalGridSVC.score(X_test, y_test))\n",
    "print(\"(Wine) Best params for Normalizer : \",normalGridSVC.best_params_)\n",
    "print()\n",
    "\n",
    "standardPipeSVC_USPS = Pipeline([(\"scaler\", StandardScaler()), (\"svc\", SVC(random_state=2110, max_iter=10000))])\n",
    "standardPipeSVC_USPS.fit(X_train_USPS, y_train_USPS)\n",
    "standardPipeSVCTestScore_USPS = standardPipeSVC_USPS.score(X_test_USPS, y_test_USPS)\n",
    "standardGridSVC_USPS = GridSearchCV(standardPipeSVC_USPS, param_grid, cv=5, n_jobs= -2)\n",
    "standardGridSVC_USPS.fit(X_train_USPS, y_train_USPS)\n",
    "print(\"(USPS) Pipe score for StandardScaler : \",standardPipeSVCTestScore_USPS)\n",
    "print(\"(USPS) Grid score for StandardScaler : \",standardGridSVC_USPS.score(X_test_USPS, y_test_USPS))\n",
    "print(\"(USPS) Best params for StandardScaler : \",standardGridSVC_USPS.best_params_)\n",
    "print()\n",
    "\n",
    "normalPipeSVC_USPS = Pipeline([(\"scaler\", Normalizer()), (\"svc\", SVC(random_state=2110, max_iter=10000))])\n",
    "normalPipeSVC_USPS.fit(X_train_USPS, y_train_USPS)\n",
    "normalPipeSVCTestScore_USPS = normalPipeSVC_USPS.score(X_test_USPS, y_test_USPS)\n",
    "normalGridSVC_USPS = GridSearchCV(normalPipeSVC_USPS, param_grid, cv=5, n_jobs= -2)\n",
    "normalGridSVC_USPS.fit(X_train_USPS, y_train_USPS)\n",
    "print(\"(USPS) Pipe score for Normalizer : \",normalPipeSVCTestScore_USPS)\n",
    "print(\"(USPS) Grid score for Normalizer : \",normalGridSVC_USPS.score(X_test_USPS, y_test_USPS))\n",
    "print(\"(USPS) Best params for Normalizer : \",normalGridSVC_USPS.best_params_)\n",
    "print()"
   ]
  },
  {
   "cell_type": "markdown",
   "id": "b649bd11",
   "metadata": {},
   "source": [
    "### Experimenting with StandardScaler, MinMaxScaler, RobustScaler, Normalizer"
   ]
  },
  {
   "cell_type": "code",
   "execution_count": 19,
   "id": "037de06e",
   "metadata": {},
   "outputs": [
    {
     "name": "stdout",
     "output_type": "stream",
     "text": [
      "(Wine) Pipe test score for MinMaxScaler :  1.0\n",
      "(Wine) Pipe test score for RobustScaler :  1.0\n",
      "(Wine) Pipe test score for Normalizer :  0.24444444444444444\n",
      "\n",
      "(USPS) Pipe test score for MinMaxScaler :  0.9724731182795698\n",
      "(USPS) Pipe test score for RobustScaler :  0.8395698924731183\n",
      "(USPS) Pipe test score for Normalizer :  0.9724731182795698\n"
     ]
    }
   ],
   "source": [
    "minMaxPipeSVC = Pipeline([(\"scaler\", MinMaxScaler()), (\"svc\", SVC(random_state=2110, max_iter=10000))])\n",
    "minMaxPipeSVC.fit(X_train, y_train)\n",
    "minMaxPipeSVCTestScore = minMaxPipeSVC.score(X_test, y_test)\n",
    "print(\"(Wine) Pipe test score for MinMaxScaler : \", minMaxPipeSVCTestScore)\n",
    "robustPipeSVC = Pipeline([(\"scaler\", RobustScaler()), (\"svc\", SVC(random_state=2110, max_iter=10000))])\n",
    "robustPipeSVC.fit(X_train, y_train)\n",
    "robustPipeSVCTestScore = robustPipeSVC.score(X_test, y_test)\n",
    "print(\"(Wine) Pipe test score for RobustScaler : \", robustPipeSVCTestScore)\n",
    "noramlPipeSVC = Pipeline([(\"scaler\", Normalizer()), (\"svc\", SVC(random_state=2110, max_iter=10000))])\n",
    "noramlPipeSVC.fit(X_train, y_train)\n",
    "normalPipeTestScore = noramlPipeSVC.score(X_test, y_test)\n",
    "print(\"(Wine) Pipe test score for Normalizer : \", normalPipeTestScore)\n",
    "print()\n",
    "minMaxPipeSVC_USPS = Pipeline([(\"scaler\", MinMaxScaler()), (\"svc\", SVC(random_state=2110, max_iter=10000))])\n",
    "minMaxPipeSVC_USPS.fit(X_train_USPS, y_train_USPS)\n",
    "minMaxPipeSVCTestScore_USPS = minMaxPipeSVC_USPS.score(X_test_USPS, y_test_USPS)\n",
    "print(\"(USPS) Pipe test score for MinMaxScaler : \", minMaxPipeSVCTestScore_USPS)\n",
    "robustPipeSVC_USPS = Pipeline([(\"scaler\", RobustScaler()), (\"svc\", SVC(random_state=2110, max_iter=10000))])\n",
    "robustPipeSVC_USPS.fit(X_train_USPS, y_train_USPS)\n",
    "robustPipeSVCTestScore_USPS = robustPipeSVC_USPS.score(X_test_USPS, y_test_USPS)\n",
    "print(\"(USPS) Pipe test score for RobustScaler : \", robustPipeSVCTestScore_USPS)\n",
    "noramlPipeSVC_USPS = Pipeline([(\"scaler\", Normalizer()), (\"svc\", SVC(random_state=2110, max_iter=10000))])\n",
    "noramlPipeSVC_USPS.fit(X_train_USPS, y_train_USPS)\n",
    "normalPipeTestScore_USPS = noramlPipeSVC_USPS.score(X_test_USPS, y_test_USPS)\n",
    "print(\"(USPS) Pipe test score for Normalizer : \", normalPipeTestScore_USPS)"
   ]
  }
 ],
 "metadata": {
  "kernelspec": {
   "display_name": "Python 3",
   "language": "python",
   "name": "python3"
  },
  "language_info": {
   "codemirror_mode": {
    "name": "ipython",
    "version": 3
   },
   "file_extension": ".py",
   "mimetype": "text/x-python",
   "name": "python",
   "nbconvert_exporter": "python",
   "pygments_lexer": "ipython3",
   "version": "3.8.8"
  }
 },
 "nbformat": 4,
 "nbformat_minor": 5
}
